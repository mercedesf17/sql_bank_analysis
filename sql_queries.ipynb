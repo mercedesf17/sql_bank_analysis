{
 "cells": [
  {
   "cell_type": "code",
   "execution_count": 1,
   "metadata": {},
   "outputs": [],
   "source": [
    "import sqlite3\n",
    "import pandas as pd"
   ]
  },
  {
   "cell_type": "code",
   "execution_count": 2,
   "metadata": {},
   "outputs": [
    {
     "data": {
      "text/html": [
       "<div>\n",
       "<style scoped>\n",
       "    .dataframe tbody tr th:only-of-type {\n",
       "        vertical-align: middle;\n",
       "    }\n",
       "\n",
       "    .dataframe tbody tr th {\n",
       "        vertical-align: top;\n",
       "    }\n",
       "\n",
       "    .dataframe thead th {\n",
       "        text-align: right;\n",
       "    }\n",
       "</style>\n",
       "<table border=\"1\" class=\"dataframe\">\n",
       "  <thead>\n",
       "    <tr style=\"text-align: right;\">\n",
       "      <th></th>\n",
       "      <th>CLIENTNUM</th>\n",
       "      <th>Attrition_Flag</th>\n",
       "      <th>Customer_Age</th>\n",
       "      <th>Gender</th>\n",
       "      <th>Dependent_count</th>\n",
       "      <th>Education_Level</th>\n",
       "      <th>Marital_Status</th>\n",
       "      <th>Income_Category</th>\n",
       "      <th>Card_Category</th>\n",
       "      <th>Months_on_book</th>\n",
       "      <th>...</th>\n",
       "      <th>Credit_Limit</th>\n",
       "      <th>Total_Revolving_Bal</th>\n",
       "      <th>Avg_Open_To_Buy</th>\n",
       "      <th>Total_Amt_Chng_Q4_Q1</th>\n",
       "      <th>Total_Trans_Amt</th>\n",
       "      <th>Total_Trans_Ct</th>\n",
       "      <th>Total_Ct_Chng_Q4_Q1</th>\n",
       "      <th>Avg_Utilization_Ratio</th>\n",
       "      <th>Naive_Bayes_Classifier_Attrition_Flag_Card_Category_Contacts_Count_12_mon_Dependent_count_Education_Level_Months_Inactive_12_mon_1</th>\n",
       "      <th>Naive_Bayes_Classifier_Attrition_Flag_Card_Category_Contacts_Count_12_mon_Dependent_count_Education_Level_Months_Inactive_12_mon_2</th>\n",
       "    </tr>\n",
       "  </thead>\n",
       "  <tbody>\n",
       "    <tr>\n",
       "      <th>0</th>\n",
       "      <td>768805383</td>\n",
       "      <td>Existing Customer</td>\n",
       "      <td>45</td>\n",
       "      <td>M</td>\n",
       "      <td>3</td>\n",
       "      <td>High School</td>\n",
       "      <td>Married</td>\n",
       "      <td>$60K - $80K</td>\n",
       "      <td>Blue</td>\n",
       "      <td>39</td>\n",
       "      <td>...</td>\n",
       "      <td>12691.0</td>\n",
       "      <td>777</td>\n",
       "      <td>11914.0</td>\n",
       "      <td>1.335</td>\n",
       "      <td>1144</td>\n",
       "      <td>42</td>\n",
       "      <td>1.625</td>\n",
       "      <td>0.061</td>\n",
       "      <td>0.000093</td>\n",
       "      <td>0.99991</td>\n",
       "    </tr>\n",
       "    <tr>\n",
       "      <th>1</th>\n",
       "      <td>818770008</td>\n",
       "      <td>Existing Customer</td>\n",
       "      <td>49</td>\n",
       "      <td>F</td>\n",
       "      <td>5</td>\n",
       "      <td>Graduate</td>\n",
       "      <td>Single</td>\n",
       "      <td>Less than $40K</td>\n",
       "      <td>Blue</td>\n",
       "      <td>44</td>\n",
       "      <td>...</td>\n",
       "      <td>8256.0</td>\n",
       "      <td>864</td>\n",
       "      <td>7392.0</td>\n",
       "      <td>1.541</td>\n",
       "      <td>1291</td>\n",
       "      <td>33</td>\n",
       "      <td>3.714</td>\n",
       "      <td>0.105</td>\n",
       "      <td>0.000057</td>\n",
       "      <td>0.99994</td>\n",
       "    </tr>\n",
       "    <tr>\n",
       "      <th>2</th>\n",
       "      <td>713982108</td>\n",
       "      <td>Existing Customer</td>\n",
       "      <td>51</td>\n",
       "      <td>M</td>\n",
       "      <td>3</td>\n",
       "      <td>Graduate</td>\n",
       "      <td>Married</td>\n",
       "      <td>$80K - $120K</td>\n",
       "      <td>Blue</td>\n",
       "      <td>36</td>\n",
       "      <td>...</td>\n",
       "      <td>3418.0</td>\n",
       "      <td>0</td>\n",
       "      <td>3418.0</td>\n",
       "      <td>2.594</td>\n",
       "      <td>1887</td>\n",
       "      <td>20</td>\n",
       "      <td>2.333</td>\n",
       "      <td>0.000</td>\n",
       "      <td>0.000021</td>\n",
       "      <td>0.99998</td>\n",
       "    </tr>\n",
       "  </tbody>\n",
       "</table>\n",
       "<p>3 rows × 23 columns</p>\n",
       "</div>"
      ],
      "text/plain": [
       "   CLIENTNUM     Attrition_Flag  Customer_Age Gender  Dependent_count  \\\n",
       "0  768805383  Existing Customer            45      M                3   \n",
       "1  818770008  Existing Customer            49      F                5   \n",
       "2  713982108  Existing Customer            51      M                3   \n",
       "\n",
       "  Education_Level Marital_Status Income_Category Card_Category  \\\n",
       "0     High School        Married     $60K - $80K          Blue   \n",
       "1        Graduate         Single  Less than $40K          Blue   \n",
       "2        Graduate        Married    $80K - $120K          Blue   \n",
       "\n",
       "   Months_on_book  ...  Credit_Limit  Total_Revolving_Bal  Avg_Open_To_Buy  \\\n",
       "0              39  ...       12691.0                  777          11914.0   \n",
       "1              44  ...        8256.0                  864           7392.0   \n",
       "2              36  ...        3418.0                    0           3418.0   \n",
       "\n",
       "   Total_Amt_Chng_Q4_Q1  Total_Trans_Amt  Total_Trans_Ct  Total_Ct_Chng_Q4_Q1  \\\n",
       "0                 1.335             1144              42                1.625   \n",
       "1                 1.541             1291              33                3.714   \n",
       "2                 2.594             1887              20                2.333   \n",
       "\n",
       "   Avg_Utilization_Ratio  \\\n",
       "0                  0.061   \n",
       "1                  0.105   \n",
       "2                  0.000   \n",
       "\n",
       "   Naive_Bayes_Classifier_Attrition_Flag_Card_Category_Contacts_Count_12_mon_Dependent_count_Education_Level_Months_Inactive_12_mon_1  \\\n",
       "0                                           0.000093                                                                                    \n",
       "1                                           0.000057                                                                                    \n",
       "2                                           0.000021                                                                                    \n",
       "\n",
       "   Naive_Bayes_Classifier_Attrition_Flag_Card_Category_Contacts_Count_12_mon_Dependent_count_Education_Level_Months_Inactive_12_mon_2  \n",
       "0                                            0.99991                                                                                   \n",
       "1                                            0.99994                                                                                   \n",
       "2                                            0.99998                                                                                   \n",
       "\n",
       "[3 rows x 23 columns]"
      ]
     },
     "execution_count": 2,
     "metadata": {},
     "output_type": "execute_result"
    }
   ],
   "source": [
    "bank_table = pd.read_csv('bank.csv')\n",
    "bank_table.head(3)"
   ]
  },
  {
   "cell_type": "code",
   "execution_count": 3,
   "metadata": {},
   "outputs": [
    {
     "data": {
      "text/plain": [
       "10127"
      ]
     },
     "execution_count": 3,
     "metadata": {},
     "output_type": "execute_result"
    }
   ],
   "source": [
    "# Creating a SQLite database connection and writing the DataFrame to a\n",
    "# SQLite database table\n",
    "conn = sqlite3.connect('bank.db')\n",
    "db = conn.cursor()\n",
    "bank_table.to_sql('bank_table', conn, if_exists='replace', index=False)"
   ]
  },
  {
   "cell_type": "markdown",
   "metadata": {},
   "source": [
    "Some SQL queries to get to explore the data"
   ]
  },
  {
   "cell_type": "code",
   "execution_count": 8,
   "metadata": {},
   "outputs": [
    {
     "name": "stdout",
     "output_type": "stream",
     "text": [
      "The dataset contains 10127 rows.\n",
      "The dataset contains 10127 unique clients.\n"
     ]
    }
   ],
   "source": [
    "# Function to check the size of the dataset\n",
    "def size_dataset(db):\n",
    "    query =  \"SELECT COUNT(*) FROM bank_table\"\n",
    "    db.execute(query)\n",
    "    row = db.fetchone()\n",
    "    return row\n",
    "\n",
    "print(f'The dataset contains {size_dataset(db)[0]} rows.')\n",
    "\n",
    "# Function to check the number of unique clients\n",
    "\n",
    "def unique_clients(db):\n",
    "    query = \"SELECT COUNT(DISTINCT(CLIENTNUM)) FROM bank_table\"\n",
    "    db.execute(query)\n",
    "    rows = db.fetchall()\n",
    "    return rows\n",
    "print(f'The dataset contains {unique_clients(db)[0][0]} unique clients.')\n",
    "\n",
    "# In both cases, I get 10,127 as a result, which means that effectively the dataset contains the information of unique customers."
   ]
  },
  {
   "cell_type": "code",
   "execution_count": 40,
   "metadata": {},
   "outputs": [
    {
     "name": "stdout",
     "output_type": "stream",
     "text": [
      "[('F', 5358), ('M', 4769)]\n",
      "5358 of the clients are females, while 4769 are males.\n",
      "The average age of the clients is 46.\n",
      "[('F', 46.45688689809631), ('M', 46.17886349339484)]\n"
     ]
    }
   ],
   "source": [
    "# Some basic queries to check the customer profiles/demographics\n",
    "\n",
    "def gender(db):\n",
    "    query = \"SELECT DISTINCT(Gender), COUNT(*) FROM bank_table GROUP BY Gender\"\n",
    "    db.execute(query)\n",
    "    rows = db.fetchall()\n",
    "    return rows\n",
    "\n",
    "print(gender(db))\n",
    "print(f'{gender(db)[0][1]} of the clients are females, while {gender(db)[1][1]} are males.')\n",
    "\n",
    "\n",
    "def avg_age(db):\n",
    "    query = \"SELECT AVG(Customer_Age) FROM bank_table\"\n",
    "    db.execute(query)\n",
    "    row = db.fetchone()\n",
    "    return row\n",
    "\n",
    "print(f'The average age of the clients is {round(avg_age(db)[0])}.')\n",
    "\n",
    "def avg_age_per_gender(db):\n",
    "    query = \"SELECT DISTINCT(Gender), AVG(Customer_Age) FROM bank_table GROUP BY Gender\"\n",
    "    db.execute(query)\n",
    "    row = db.fetchall()\n",
    "    return row\n",
    "\n",
    "print(avg_age_per_gender(db))"
   ]
  },
  {
   "cell_type": "code",
   "execution_count": 67,
   "metadata": {},
   "outputs": [
    {
     "name": "stdout",
     "output_type": "stream",
     "text": [
      "There are 6 different types of income categories. They are as follows:\n",
      " 1) $120K + with 727 clients.\n",
      " 2) Unknown with 1112 clients.\n",
      " 3) $60K - $80K with 1402 clients.\n",
      " 4) $80K - $120K with 1535 clients.\n",
      " 5) $40K - $60K with 1790 clients.\n",
      " 6) Less than $40K with 3561 clients.\n"
     ]
    }
   ],
   "source": [
    "def income_category(db):\n",
    "    query = \"SELECT Income_category, count(CLIENTNUM) as customer_count FROM bank_table GROUP BY Income_Category ORDER BY customer_count\"\n",
    "    db.execute(query)\n",
    "    rows = db.fetchall()\n",
    "    return rows\n",
    "\n",
    "#print(income_category(db))\n",
    "print(f'There are {len(income_category(db))} different types of income categories. They are as follows:\\n 1) {income_category(db)[0][0]} with {income_category(db)[0][1]} clients.\\n 2) {income_category(db)[1][0]} with {income_category(db)[1][1]} clients.\\n 3) {income_category(db)[2][0]} with {income_category(db)[2][1]} clients.\\n 4) {income_category(db)[3][0]} with {income_category(db)[3][1]} clients.\\n 5) {income_category(db)[4][0]} with {income_category(db)[4][1]} clients.\\n 6) {income_category(db)[5][0]} with {income_category(db)[5][1]} clients.')"
   ]
  },
  {
   "cell_type": "code",
   "execution_count": 109,
   "metadata": {},
   "outputs": [
    {
     "name": "stdout",
     "output_type": "stream",
     "text": [
      "Income Category     Male Count     Female Count   \n",
      "$120K +             727            0              \n",
      "$40K - $60K         776            1014           \n",
      "$60K - $80K         1402           0              \n",
      "$80K - $120K        1535           0              \n",
      "Less than $40K      277            3284           \n",
      "Unknown             52             1060           \n",
      "\n",
      "The table above interestingly shows that there are no female clients in the 3 highest income categories. \n",
      "They are only below 60k.\n"
     ]
    }
   ],
   "source": [
    "def income_category_gender(db):\n",
    "    query = \"\"\"\n",
    "    SELECT Income_Category,\n",
    "           SUM(CASE WHEN Gender = 'M' THEN 1 ELSE 0 END) AS M,\n",
    "           SUM(CASE WHEN Gender = 'F' THEN 1 ELSE 0 END) AS F\n",
    "    FROM bank_table\n",
    "    GROUP BY Income_Category\n",
    "    ORDER BY Income_Category\n",
    "    \"\"\"\n",
    "    db.execute(query)\n",
    "    rows = db.fetchall()\n",
    "    return rows\n",
    "\n",
    "def print_income_category_gender(rows):\n",
    "    print(\"{:<20}{:<15}{:<15}\".format(\"Income Category\", \"Male Count\", \"Female Count\"))\n",
    "    for row in rows:\n",
    "        income_category, male_count, female_count = row\n",
    "        print(\"{:<20}{:<15}{:<15}\".format(income_category, male_count, female_count))\n",
    "\n",
    "rows = income_category_gender(db)\n",
    "print_income_category_gender(rows)\n",
    "\n",
    "print(f'\\nThe table above interestingly shows that there are no female clients in the 3 highest income categories. \\nThey are only below 60k.')\n"
   ]
  },
  {
   "cell_type": "code",
   "execution_count": 123,
   "metadata": {},
   "outputs": [
    {
     "name": "stdout",
     "output_type": "stream",
     "text": [
      "Blue category cards are held by 9436 clients.\n",
      "Gold category cards are held by 116 clients.\n",
      "Platinum category cards are held by 20 clients.\n",
      "Silver category cards are held by 555 clients.\n"
     ]
    }
   ],
   "source": [
    "def card_category(db):\n",
    "    query = \"SELECT Card_Category, COUNT(*) as avg_credit_lim FROM bank_table GROUP BY Card_Category\"\n",
    "    db.execute(query)\n",
    "    rows = db.fetchall()\n",
    "    return rows\n",
    "results_card_category = card_category(db)\n",
    "\n",
    "for card in results_card_category:\n",
    "    print(f'{card[0]} category cards are held by {card[1]} clients.')\n"
   ]
  }
 ],
 "metadata": {
  "kernelspec": {
   "display_name": "lewagon",
   "language": "python",
   "name": "python3"
  },
  "language_info": {
   "codemirror_mode": {
    "name": "ipython",
    "version": 3
   },
   "file_extension": ".py",
   "mimetype": "text/x-python",
   "name": "python",
   "nbconvert_exporter": "python",
   "pygments_lexer": "ipython3",
   "version": "3.10.6"
  }
 },
 "nbformat": 4,
 "nbformat_minor": 2
}
